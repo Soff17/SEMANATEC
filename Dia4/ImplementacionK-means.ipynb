{
 "cells": [
  {
   "cell_type": "code",
   "execution_count": 17,
   "metadata": {},
   "outputs": [
    {
     "name": "stdout",
     "output_type": "stream",
     "text": [
      "5.196152422706632\n",
      "[[], [], []]\n"
     ]
    }
   ],
   "source": [
    "import numpy as np\n",
    "\n",
    "def distancia(lista1, lista2):\n",
    "    if len(lista1)==len(lista2):\n",
    "        list1 = np.array(lista1)\n",
    "        list2 = np.array(lista2)\n",
    "        distancia = np.linalg.norm(list1-list2)\n",
    "        print(distancia)\n",
    "    else:\n",
    "        print(\"Las listas no son del mismo tamaño\")\n",
    "    \n",
    "a=[1,2,3]\n",
    "b=[4,5,6]\n",
    "distancia(a,b)\n",
    "\n",
    "#listadelistas = [[1,2,3],[1,2,3],[1,2,3]]\n",
    "#listadeklistas = []\n",
    "'''\n",
    "def cercanos(puntos, centros):\n",
    "    vacia = []\n",
    "    for i in range(centros):\n",
    "        vacia.append([])\n",
    "    print(vacia)\n",
    "'''\n",
    "vacia = []\n",
    "for i in range(3):\n",
    "    vacia.append([])\n",
    "print(vacia)"
   ]
  },
  {
   "cell_type": "code",
   "execution_count": null,
   "metadata": {},
   "outputs": [],
   "source": []
  }
 ],
 "metadata": {
  "kernelspec": {
   "display_name": "Python 3",
   "language": "python",
   "name": "python3"
  },
  "language_info": {
   "codemirror_mode": {
    "name": "ipython",
    "version": 3
   },
   "file_extension": ".py",
   "mimetype": "text/x-python",
   "name": "python",
   "nbconvert_exporter": "python",
   "pygments_lexer": "ipython3",
   "version": "3.7.4"
  }
 },
 "nbformat": 4,
 "nbformat_minor": 2
}
