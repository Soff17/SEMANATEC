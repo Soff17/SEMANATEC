{
 "cells": [
  {
   "cell_type": "code",
   "execution_count": null,
   "metadata": {},
   "outputs": [],
   "source": [
    "import seaborn, matplotlib\n",
    "import pandas as pd\n",
    "import matplotlib.pyplot as plt\n",
    "import numpy as np\n",
    "import math\n",
    "\n",
    "# Cargando datos\n",
    "data = pd.read_csv(\"covid19_tweets.csv\")\n",
    "\n",
    "# Variables a trabajar\n",
    "new_data = data[['user_followers','user_friends','user_favourites']]\n",
    "\n",
    "# Diagrama de cajas y bigotes \n",
    "plt.boxplot(new_data)\n",
    "plt.title('Grafica Boxplot')\n",
    "plt.show()\n",
    "\n",
    "# Mapas de calor \n",
    "np.random.seed(0)\n",
    "sns.set_theme()\n",
    "ax = sns.heatmap(new_data)\n",
    "\n"
   ]
  },
  {
   "cell_type": "code",
   "execution_count": null,
   "metadata": {},
   "outputs": [],
   "source": []
  },
  {
   "cell_type": "code",
   "execution_count": null,
   "metadata": {},
   "outputs": [],
   "source": []
  }
 ],
 "metadata": {
  "kernelspec": {
   "display_name": "Python 3",
   "language": "python",
   "name": "python3"
  },
  "language_info": {
   "codemirror_mode": {
    "name": "ipython",
    "version": 3
   },
   "file_extension": ".py",
   "mimetype": "text/x-python",
   "name": "python",
   "nbconvert_exporter": "python",
   "pygments_lexer": "ipython3",
   "version": "3.7.4"
  }
 },
 "nbformat": 4,
 "nbformat_minor": 2
}
