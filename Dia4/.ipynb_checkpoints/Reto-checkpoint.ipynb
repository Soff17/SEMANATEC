{
 "cells": [
  {
   "cell_type": "markdown",
   "metadata": {},
   "source": [
    "<h1><span style=\"color:blue\">Actividad Reto</h1>\n",
    "<h4>\n",
    "<span style=\"color:green\">\n",
    "Fernando Alfonso Arana Salas A01272933<br>\n",
    "Paola Fernández Gutiérrez Zamora A01658087<br>\n",
    "Sofia Donlucas Bañuelos A01655565<br>\n",
    "Isaac Jacinto Ruiz A01658578<br>\n",
    "Santiago Gabián A01658280\n",
    "</h4>"
   ]
  },
  {
   "cell_type": "code",
   "execution_count": null,
   "metadata": {},
   "outputs": [],
   "source": [
    "import matplotlib.pyplot as plt\n",
    "import pandas as pd\n",
    "import seaborn as sns\n",
    "import warnings\n",
    "import numpy as np\n",
    "from sklearn.cluster import KMeans\n",
    "from sklearn.metrics import pairwise_distances_argmin_min\n",
    "from mpl_toolkits.mplot3d import Axes3D\n",
    "\n",
    "!pip install plotly\n",
    "import plotly.express as px \n",
    "\n",
    "warnings.filterwarnings('ignore')"
   ]
  },
  {
   "cell_type": "code",
   "execution_count": null,
   "metadata": {},
   "outputs": [],
   "source": [
    "data = pd.read_csv('covid19_tweets.csv')\n",
    "data.head()"
   ]
  },
  {
   "cell_type": "code",
   "execution_count": null,
   "metadata": {},
   "outputs": [],
   "source": [
    "data.columns"
   ]
  },
  {
   "cell_type": "code",
   "execution_count": null,
   "metadata": {},
   "outputs": [],
   "source": [
    "data.info"
   ]
  },
  {
   "cell_type": "code",
   "execution_count": null,
   "metadata": {},
   "outputs": [],
   "source": [
    "data['user_location'].unique()"
   ]
  },
  {
   "cell_type": "markdown",
   "metadata": {},
   "source": [
    "# </br> </br> Gráfica: Distribución de Orígenes </br> </br>"
   ]
  },
  {
   "cell_type": "code",
   "execution_count": null,
   "metadata": {},
   "outputs": [],
   "source": [
    "# Distribution of Sources\n",
    "data['user_location'].value_counts()"
   ]
  },
  {
   "cell_type": "code",
   "execution_count": null,
   "metadata": {},
   "outputs": [],
   "source": [
    "plt.figure(figsize=(20,10))\n",
    "data['user_location'].value_counts().nlargest(30).plot(kind='bar')\n",
    "plt.xticks(rotation=45)\n",
    "plt.show()"
   ]
  },
  {
   "cell_type": "code",
   "execution_count": null,
   "metadata": {},
   "outputs": [],
   "source": [
    "data.drop(['user_description'],inplace = True, axis = 1)\n",
    "data"
   ]
  },
  {
   "cell_type": "code",
   "execution_count": null,
   "metadata": {},
   "outputs": [],
   "source": [
    "import nltk\n",
    "nltk.download('vader_lexicon')\n",
    "from nltk.sentiment.vader import SentimentIntensityAnalyzer as SIA\n",
    "from nltk.corpus import subjectivity\n",
    "from wordcloud import WordCloud\n",
    "import matplotlib.pyplot as plt\n",
    "import re\n",
    "from textblob import TextBlob\n",
    "\n",
    "%matplotlib inline\n",
    "\n",
    "# text cleaner\n",
    "# turns \\n, \\t, \\r into normal white spaces\n",
    "# removes retweets, hyperlinks and non-alphanumeric values\n",
    "# also, removes leading and trailing white spaces\n",
    "def text_cleaner(text) :\n",
    "    text = re.sub(r\"\\n\",\" \",text)\n",
    "    text = re.sub(r\"\\t\",\" \",text)\n",
    "    text = re.sub(r\"\\r\",\" \",text)\n",
    "    text = re.sub(r\"(@)|(#)|(RT[\\s]+)|(https?:\\/\\/\\S+)|([^a-zA-Z0-9 -])\", \"\", text)\n",
    "    text = text.strip(\" \")\n",
    "    return text\n",
    "\n",
    "# Covid_or_Coronavirus_remover\n",
    "# removes words containing covid or corona\n",
    "# also, removes leading and trailing white spaces\n",
    "def Covid_or_Coronavirus_remover(text) :\n",
    "    text = re.sub(r\"((Covid)|(COVID)|(covid)|(Corona)|(corona)|(CORONA))+\", \"\",text)\n",
    "    text = re.sub(r\"((Covid)|(COVID)|(covid)|(Corona)|(corona)|(CORONA))[A-Za-z0-9]+\", \"\",text)\n",
    "    text = text.strip(\" \")\n",
    "    return text\n",
    "\n",
    "# hashtag collector\n",
    "# finds all hashtags and puts them into a list\n",
    "# removes # and . symbols to clean up list\n",
    "# changes all hashtags to uppercase \n",
    "def hashtag_collector(text) :\n",
    "    list_of_hashtags = re.findall(r\"#[A-Za-z0-9\\-\\.\\_]+\",text,re.DOTALL)\n",
    "    if(list_of_hashtags != None) :\n",
    "        list_of_hashtags = [word.replace('#', '') for word in list_of_hashtags]\n",
    "        list_of_hashtags = [word.replace('.', '') for word in list_of_hashtags]\n",
    "        list_of_hashtags = [word.upper() for word in list_of_hashtags]\n",
    "    return list_of_hashtags\n",
    "\n",
    "# at collector\n",
    "# finds all mentions and puts them into a list\n",
    "# removes @ symbols to clean up list\n",
    "def at_collector(text) :\n",
    "    list_of_ats = re.findall(r\"@[A-Za-z0-9\\-\\.\\_]+\",text,re.DOTALL)\n",
    "    if(list_of_ats != None) :\n",
    "        list_of_ats = [name.replace('@', '') for name in list_of_ats]\n",
    "    return list_of_ats\n",
    "\n",
    "# compound sentiment score\n",
    "# returns Vader sentiment polarity scores \n",
    "def compound_sentiment_score(tweet):\n",
    "    VaderSent = SIA()\n",
    "    Overall_sentiment = VaderSent.polarity_scores(tweet)\n",
    "    return Overall_sentiment\n",
    "\n",
    "# getSubjectivity\n",
    "# returns TextBlob subjectivity score\n",
    "def getSubjectivity(tweet):\n",
    "    return TextBlob.subjectivity(tweet)\n",
    "\n",
    "# getPolarity\n",
    "# returns TextBlob polarity score\n",
    "def getPolarity (tweet):\n",
    "    return TextBlob.polarity(tweet)\n",
    "\n",
    "# doAnalysis\n",
    "# returns simple connotation\n",
    "def doAnalysis(score) :\n",
    "    return 'Neutral' if (score == 0) else ('Negative' if (score < 0) else 'Positive')\n",
    "\n",
    "# wordClouder\n",
    "# creates a word cloud\n",
    "def wordClouder(string_column):\n",
    "    Words = ''.join([words for words in string_column])\n",
    "    wordcloud = WordCloud(width = 1000, height = 600, random_state = 10, max_font_size = 120)\n",
    "    wordcloud.generate(Words)\n",
    "    plt.style.use('fivethirtyeight')\n",
    "    plt.figure(figsize = (20,28))\n",
    "    plt.imshow(wordcloud, interpolation = \"bilinear\")\n",
    "    plt.axis('off')\n",
    "    plt.show()"
   ]
  },
  {
   "cell_type": "code",
   "execution_count": null,
   "metadata": {},
   "outputs": [],
   "source": [
    "data[\"hashtags_in_tweets\"] = data[\"text\"].apply(hashtag_collector)\n",
    "data"
   ]
  },
  {
   "cell_type": "code",
   "execution_count": null,
   "metadata": {},
   "outputs": [],
   "source": [
    "data[\"ats_in_tweets\"] = data[\"text\"].apply(at_collector)\n",
    "data"
   ]
  },
  {
   "cell_type": "code",
   "execution_count": null,
   "metadata": {},
   "outputs": [],
   "source": [
    "data[\"text\"] = data[\"text\"].apply(text_cleaner)\n",
    "data"
   ]
  },
  {
   "cell_type": "markdown",
   "metadata": {},
   "source": [
    "# </br> </br> <center> Gráfica: Nube de palabras </center> </br>"
   ]
  },
  {
   "cell_type": "markdown",
   "metadata": {},
   "source": [
    "## <center> Tweets </center> </br> </br>"
   ]
  },
  {
   "cell_type": "code",
   "execution_count": null,
   "metadata": {
    "scrolled": false
   },
   "outputs": [],
   "source": [
    "# Gráfica para identificar palabras en tweets\n",
    "wordClouder(data['text'])"
   ]
  },
  {
   "cell_type": "markdown",
   "metadata": {},
   "source": [
    "## <center> Hashtags </center> </br> </br>"
   ]
  },
  {
   "cell_type": "code",
   "execution_count": null,
   "metadata": {},
   "outputs": [],
   "source": [
    "# Gráfica para identificar palabras en Nombres de Usuarios\n",
    "wordClouder(data['user_name'])"
   ]
  },
  {
   "cell_type": "code",
   "execution_count": null,
   "metadata": {},
   "outputs": [],
   "source": [
    "data_new = pd.read_csv('covid19_tweets.csv')\n",
    "data_new.drop(data_new.columns[[0, 1, 2, 3, 6, 7, 8, 9, 10, 11]], axis='columns')\n",
    "data_new"
   ]
  },
  {
   "cell_type": "markdown",
   "metadata": {},
   "source": [
    "# </br> </br> <center> Gráfica: Mapa de Arbol </center> </br> </br>"
   ]
  },
  {
   "cell_type": "code",
   "execution_count": null,
   "metadata": {},
   "outputs": [],
   "source": [
    "usuarios_conteo = data['user_name'].value_counts().reset_index().rename(columns={\n",
    "    'user_name':'Numero_de_Tweets','index':'Usuario'})\n",
    "\n",
    "fig = px.treemap(usuarios_conteo.head(50), path=['Usuario'], values='Numero_de_Tweets',\n",
    "                title=\"<b>Top 50 usuarios por número de tweets</b>\") \n",
    "\n",
    "fig.show()"
   ]
  },
  {
   "cell_type": "markdown",
   "metadata": {},
   "source": [
    "# </br> </br><center>Análisis con K-means </center></br> </br>"
   ]
  },
  {
   "cell_type": "markdown",
   "metadata": {},
   "source": [
    "¿Es posible incluir el uso del algoritmo Kmeans para apoyar con la descripción de los datos?\n",
    "Basado en los datos que se tienen, consideramos que si es posible utilizar un diagrama K-means para apoyar con la descripción de datos. Observamos que es posible comparar los seguidores que tiene un usuario, sus amigos y sus favoritos y encontrar si hay alguna relación con que su cuenta esté verificada. Esto puede servir para determinar si la verificación de una cuenta se ve afectada por estos datos y así determinar si esa verificación en realidad significa que sus tweets son información verídica y significativa o no si no lo asegura. Aunque en este caso se hizo este ejemplo se podrían analizar otros valores para encontrar diferentes grupos significativos por la información obtenida ya que el método k-means ayuda a estudiar comportamientos en páginas web entonces podría ser útil en este caso."
   ]
  },
  {
   "cell_type": "code",
   "execution_count": null,
   "metadata": {},
   "outputs": [],
   "source": [
    "# Se realizará analizando los usuarios verificados\n",
    "data.drop(['user_verified'],1).hist()\n",
    "plt.show()"
   ]
  },
  {
   "cell_type": "code",
   "execution_count": null,
   "metadata": {},
   "outputs": [],
   "source": [
    "sns.pairplot(data.dropna(), hue='user_verified',size=4,vars=[\"user_friends\",\"user_favourites\",\"user_followers\"],kind='scatter')"
   ]
  },
  {
   "cell_type": "code",
   "execution_count": null,
   "metadata": {},
   "outputs": [],
   "source": [
    "# Se utilizarán los valores numéricos y se hará de 3 dimensiones\n",
    "X = np.array(data[[\"user_friends\",\"user_favourites\",\"user_followers\"]])\n",
    "y = np.array(data['user_verified'])\n",
    "X.shape"
   ]
  },
  {
   "cell_type": "code",
   "execution_count": null,
   "metadata": {},
   "outputs": [],
   "source": [
    "fig = plt.figure()\n",
    "ax = Axes3D(fig)\n",
    "colores=['red', 'green']\n",
    "asignar=[]\n",
    "for row in y:\n",
    "    asignar.append(colores[row])\n",
    "ax.scatter(X[:, 0], X[:, 1], X[:, 2], c=asignar,s=60)\n"
   ]
  },
  {
   "cell_type": "code",
   "execution_count": null,
   "metadata": {},
   "outputs": [],
   "source": [
    "# Obteniendo el valor K\n",
    "Nc = range(1, 20)\n",
    "kmeans = [KMeans(n_clusters=i) for i in Nc]\n",
    "kmeans\n",
    "score = [kmeans[i].fit(X).score(X) for i in range(len(kmeans))]\n",
    "score\n",
    "plt.plot(Nc,score)\n",
    "plt.xlabel('Number of Clusters')\n",
    "plt.ylabel('Score')\n",
    "plt.title('Elbow Curve')\n",
    "plt.show()\n",
    "\n",
    "# Ejecutando K-Means para 3 clusters\n",
    "kmeans = KMeans(n_clusters=3).fit(X)\n",
    "\n",
    "# Obteniendo etiquetas y centroids\n",
    "centroids = kmeans.cluster_centers_\n",
    "print(centroids)\n",
    "\n",
    "# Grafica 3D - estrellas marcan el centro\n",
    "# Prediccion de clusters\n",
    "labels = kmeans.predict(X)\n",
    "# Obteniendo los centros de los clusters\n",
    "C = kmeans.cluster_centers_\n",
    "colores=['green','blue','yellow']\n",
    "asignar=[]\n",
    "for row in labels:\n",
    "    asignar.append(colores[row])\n",
    " \n",
    "fig = plt.figure()\n",
    "ax = Axes3D(fig)\n",
    "ax.scatter(X[:, 0], X[:, 1], X[:, 2], c=asignar,s=60)\n",
    "ax.scatter(C[:, 0], C[:, 1], C[:, 2], marker='*', c=colores, s=1000)\n"
   ]
  },
  {
   "cell_type": "code",
   "execution_count": null,
   "metadata": {},
   "outputs": [],
   "source": [
    "friends = data['user_friends'].values\n",
    "followers = data['user_followers'].values\n",
    "\n",
    "plt.figure()\n",
    "plt.scatter(friends, followers, c=asignar, s=70)\n",
    "plt.scatter(C[:,0], C[:,1], c=colores, s=1000)\n",
    "plt.xlabel('user_friends')\n",
    "plt.ylabel('user_followers')\n",
    "plt.show()\n",
    "print(C)"
   ]
  },
  {
   "cell_type": "code",
   "execution_count": null,
   "metadata": {},
   "outputs": [],
   "source": [
    "import random\n",
    "favourites = data['user_favourites'].values\n",
    "followers = data['user_followers'].values\n",
    "\n",
    "plt.xlabel('user_followers')\n",
    "plt.ylabel('user_favourites')\n",
    "plt.scatter(favourites, followers, c=asignar, s=70)\n",
    "plt.scatter(C[:,0], C[:,1], marker=\"*\", c=colores, s=1000)\n",
    "plt.show()"
   ]
  },
  {
   "cell_type": "code",
   "execution_count": null,
   "metadata": {},
   "outputs": [],
   "source": [
    "friends = data['user_friends'].values\n",
    "favourites = data['user_favourites'].values\n",
    "\n",
    "plt.scatter(friends, favourites, c=asignar, s=70)\n",
    "plt.scatter(C[:,0], C[:,1], marker=\"*\", c=colores, s=1000)\n",
    "plt.xlabel('user_friends')\n",
    "plt.ylabel('user_favourites')\n",
    "plt.show()"
   ]
  },
  {
   "cell_type": "code",
   "execution_count": null,
   "metadata": {},
   "outputs": [],
   "source": [
    "copy =  pd.DataFrame()\n",
    "\n",
    "copy['user_verified']=data['user_verified'].values\n",
    "copy['label'] = labels\n",
    "cantGrp =  pd.DataFrame()\n",
    "cantGrp['color']=colores\n",
    "cantGrp['cantidad']=copy.groupby('label').size()\n",
    "cantGrp"
   ]
  }
 ],
 "metadata": {
  "kernelspec": {
   "display_name": "Python 3",
   "language": "python",
   "name": "python3"
  },
  "language_info": {
   "codemirror_mode": {
    "name": "ipython",
    "version": 3
   },
   "file_extension": ".py",
   "mimetype": "text/x-python",
   "name": "python",
   "nbconvert_exporter": "python",
   "pygments_lexer": "ipython3",
   "version": "3.7.4"
  }
 },
 "nbformat": 4,
 "nbformat_minor": 5
}
